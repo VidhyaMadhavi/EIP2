{
 "cells": [
  {
   "cell_type": "code",
   "execution_count": 38,
   "metadata": {
    "collapsed": true
   },
   "outputs": [],
   "source": [
    "import numpy as np\n",
    "\n",
    "#Input array\n",
    "X=np.array([[1,0,1,0],[1,0,1,1],[0,1,0,1]])\n",
    "\n",
    "#Output\n",
    "y=np.array([[1],[1],[0]])"
   ]
  },
  {
   "cell_type": "code",
   "execution_count": 39,
   "metadata": {
    "collapsed": true
   },
   "outputs": [],
   "source": [
    "#Sigmoid Function\n",
    "def sigmoid (x):\n",
    "    return 1/(1 + np.exp(-x))\n",
    "\n",
    "#Derivative of Sigmoid Function\n",
    "def derivatives_sigmoid(x):\n",
    "    return x * (1 - x)\n"
   ]
  },
  {
   "cell_type": "code",
   "execution_count": 40,
   "metadata": {
    "collapsed": true
   },
   "outputs": [],
   "source": [
    "#Variable initialization\n",
    "epoch=5000 #Setting training iterations\n",
    "lr=0.1 #Setting learning rate\n",
    "inputlayer_neurons = X.shape[1] #number of features in data set\n",
    "hiddenlayer_neurons = 3 #number of hidden layers neurons\n",
    "output_neurons = 1 #number of neurons at output layer"
   ]
  },
  {
   "cell_type": "code",
   "execution_count": 41,
   "metadata": {
    "collapsed": true
   },
   "outputs": [],
   "source": [
    "#weight and bias initialization\n",
    "wh=np.random.uniform(size=(inputlayer_neurons,hiddenlayer_neurons))\n",
    "bh=np.random.uniform(size=(1,hiddenlayer_neurons))\n",
    "wout=np.random.uniform(size=(hiddenlayer_neurons,output_neurons))\n",
    "bout=np.random.uniform(size=(1,output_neurons))"
   ]
  },
  {
   "cell_type": "code",
   "execution_count": 42,
   "metadata": {},
   "outputs": [
    {
     "name": "stdout",
     "output_type": "stream",
     "text": [
      "wh: [[ 0.9691236   0.69625063  0.28261899]\n",
      " [ 0.16564422  0.31707375  0.93477575]\n",
      " [ 0.72546718  0.5197577   0.74731132]\n",
      " [ 0.13524706  0.56698381  0.68155235]]\n",
      "bh: [[ 0.30263453  0.60808346  0.76765382]]\n",
      "wout: [[ 0.90997053]\n",
      " [ 0.00384098]\n",
      " [ 0.00253002]]\n",
      "bout: [[ 0.16843307]]\n"
     ]
    }
   ],
   "source": [
    "print (\"wh:\", wh)\n",
    "print (\"bh:\", bh)\n",
    "print (\"wout:\", wout)\n",
    "print (\"bout:\", bout)"
   ]
  },
  {
   "cell_type": "code",
   "execution_count": 43,
   "metadata": {},
   "outputs": [],
   "source": [
    "# wh = [[0.42, 0.88, 0.55],\n",
    "#       [0.1, 0.73, 0.68],\n",
    "#       [0.6, 0.18, 0.47],\n",
    "#       [0.92, 0.11, 0.52]\n",
    "    \n",
    "# ]\n",
    "# print (\"wh:\", wh)\n",
    "\n",
    "# bh = [\n",
    "#     [0.46, 0.72, 0.08]\n",
    "# ]\n",
    "# print (\"bh:\", bh)\n",
    "\n",
    "# wout =np.array([ [0.3], [0.25], [0.23]])\n",
    "\n",
    "\n",
    "\n",
    "# print (\"wout:\", wout)\n",
    "\n",
    "# bout = [[0.69]]\n",
    "# print (\"bout:\", bout)"
   ]
  },
  {
   "cell_type": "code",
   "execution_count": 45,
   "metadata": {},
   "outputs": [
    {
     "name": "stdout",
     "output_type": "stream",
     "text": [
      "E: [[ 0.27574123]\n",
      " [ 0.27333955]\n",
      " [-0.67938717]] (3, 1)\n",
      "slope_output_layer: [[ 0.19970801]\n",
      " [ 0.19862504]\n",
      " [ 0.21782024]] (3, 1)\n",
      "d_output: [[ 0.05506773]\n",
      " [ 0.05429208]\n",
      " [-0.14798428]]\n",
      "wout.T: [[ 0.90999982  0.00136943 -0.00139127]]\n",
      "d_output.shape: (3, 1)\n",
      "wout.T.shape: (1, 3)\n",
      "Error_at_hidden_layer: [[  5.01116262e-02   7.54112948e-05  -7.66141506e-05]\n",
      " [  4.94057836e-02   7.43490961e-05  -7.55350092e-05]\n",
      " [ -1.34665667e-01  -2.02653817e-04   2.05886268e-04]]\n",
      "Error_at_hidden_layer: [[  5.01116262e-02   7.54112948e-05  -7.66141506e-05]\n",
      " [  4.94057836e-02   7.43490961e-05  -7.55350092e-05]\n",
      " [ -1.34665667e-01  -2.02653817e-04   2.05886268e-04]]\n",
      "slope_hidden_layer: [[ 0.10522556  0.11963796  0.12193965]\n",
      " [ 0.09495323  0.07682418  0.07135309]\n",
      " [ 0.22906714  0.1498933   0.07727891]]\n",
      "d_hiddenlayer: [[  5.27302410e-03   9.02205373e-06  -9.34230238e-06]\n",
      " [  4.69123880e-03   5.71180819e-06  -5.38965630e-06]\n",
      " [ -3.08474797e-02  -3.03764491e-05   1.59106661e-05]]\n",
      "d_output: [[ 0.05506773]\n",
      " [ 0.05429208]\n",
      " [-0.14798428]]\n",
      "hiddenlayer_activations.T: [[ 0.88049236  0.89375979  0.64468192]\n",
      " [ 0.86105683  0.91614399  0.81639643]\n",
      " [ 0.85785521  0.92266643  0.91559727]]\n",
      "wout: [[ 0.91016062]\n",
      " [-0.00099637]\n",
      " [-0.00520731]]\n",
      "bout =  [[ 0.16058989]]\n",
      "wh : [[ 0.97110398  0.69625619  0.28262016]\n",
      " [ 0.15948324  0.3170622   0.93477445]\n",
      " [ 0.72744756  0.51976326  0.74731249]\n",
      " [ 0.13001776  0.56697441  0.68155148]]\n",
      "bh: [[ 0.29845394  0.60807746  0.7676537 ]]\n"
     ]
    }
   ],
   "source": [
    "for i in range(1):\n",
    "    #Forward Propogation\n",
    "    hidden_layer_input1=np.dot(X,wh)\n",
    "    hidden_layer_input=hidden_layer_input1 + bh\n",
    "    hiddenlayer_activations = sigmoid(hidden_layer_input)\n",
    "    output_layer_input1=np.dot(hiddenlayer_activations,wout)\n",
    "    output_layer_input= output_layer_input1+ bout\n",
    "    output = sigmoid(output_layer_input)\n",
    "\n",
    "    #Backpropagation\n",
    "    E = y-output\n",
    "    slope_output_layer = derivatives_sigmoid(output)\n",
    "    slope_hidden_layer = derivatives_sigmoid(hiddenlayer_activations)\n",
    "    print (\"E:\", E, E.shape)\n",
    "    print (\"slope_output_layer:\",slope_output_layer, slope_output_layer.shape )\n",
    "    d_output = E * slope_output_layer\n",
    "    print (\"d_output:\", d_output)\n",
    "    print (\"wout.T:\", wout.T)\n",
    "    print (\"d_output.shape:\", d_output.shape)\n",
    "    print (\"wout.T.shape:\", wout.T.shape)\n",
    "    Error_at_hidden_layer = d_output.dot(wout.T)\n",
    "    print (\"Error_at_hidden_layer:\", Error_at_hidden_layer)\n",
    "    \n",
    "    \n",
    "    \n",
    "    d_hiddenlayer = Error_at_hidden_layer * slope_hidden_layer\n",
    "    print (\"Error_at_hidden_layer:\", Error_at_hidden_layer)\n",
    "    print(\"slope_hidden_layer:\", slope_hidden_layer)\n",
    "    print ('d_hiddenlayer:', d_hiddenlayer)\n",
    "    \n",
    "    wout += hiddenlayer_activations.T.dot(d_output) *lr\n",
    "    print ('d_output:', d_output)\n",
    "    print ('hiddenlayer_activations.T:', hiddenlayer_activations.T)\n",
    "    print ('wout:', wout)\n",
    "    bout += np.sum(d_output, axis=0,keepdims=True) *lr\n",
    "    \n",
    "    print ('bout = ', bout)\n",
    "    wh += X.T.dot(d_hiddenlayer) *lr\n",
    "    print (\"wh :\", wh)\n",
    "    \n",
    "    bh += np.sum(d_hiddenlayer, axis=0,keepdims=True) *lr\n",
    "    \n",
    "    print ('bh:', bh)\n",
    "\n"
   ]
  },
  {
   "cell_type": "code",
   "execution_count": 15,
   "metadata": {},
   "outputs": [],
   "source": [
    "Error_at_hidden_layer= np.array( [[ 0.011 , 0.009,   0.008],\n",
    "                         [ 0.010 , 0.008,   0.007],\n",
    "                         [-0.039, -0.033,  -0.030]])\n",
    "    \n",
    "    \n",
    "slope_hidden_layer= np.array( [[ 0.15,   0.12,   0.19],\n",
    "                      [ 0.08 , 0.11,  0.14],\n",
    "                      [ 0.15,  0.14,   0.17]]\n",
    "                            )\n"
   ]
  },
  {
   "cell_type": "code",
   "execution_count": 35,
   "metadata": {},
   "outputs": [
    {
     "data": {
      "text/plain": [
       "array([[-0.00034693, -0.00025572, -0.00024313]])"
      ]
     },
     "execution_count": 35,
     "metadata": {},
     "output_type": "execute_result"
    }
   ],
   "source": [
    " np.sum(d_hiddenlayer, axis=0,keepdims=True) * lr"
   ]
  },
  {
   "cell_type": "code",
   "execution_count": 46,
   "metadata": {},
   "outputs": [
    {
     "data": {
      "text/plain": [
       "array([[ 0.05506773],\n",
       "       [ 0.05429208],\n",
       "       [-0.14798428]])"
      ]
     },
     "execution_count": 46,
     "metadata": {},
     "output_type": "execute_result"
    }
   ],
   "source": [
    "d_output\n"
   ]
  },
  {
   "cell_type": "code",
   "execution_count": null,
   "metadata": {
    "collapsed": true
   },
   "outputs": [],
   "source": []
  }
 ],
 "metadata": {
  "kernelspec": {
   "display_name": "Python 3",
   "language": "python",
   "name": "python3"
  },
  "language_info": {
   "codemirror_mode": {
    "name": "ipython",
    "version": 3
   },
   "file_extension": ".py",
   "mimetype": "text/x-python",
   "name": "python",
   "nbconvert_exporter": "python",
   "pygments_lexer": "ipython3",
   "version": "3.6.3"
  }
 },
 "nbformat": 4,
 "nbformat_minor": 2
}
